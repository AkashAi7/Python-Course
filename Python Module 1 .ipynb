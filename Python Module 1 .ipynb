{
 "cells": [
  {
   "cell_type": "markdown",
   "id": "1eef30b5",
   "metadata": {},
   "source": [
    "# Introduction:\n",
    "Welcome to our Python lab! In this lab, you will learn the basics of programming in Python, including data types, variables, control structures, and functions. This lab is designed for beginners who have little or no experience with programming, but it's also suitable for more experienced programmers who want to refresh their skills. By the end of this lab, you will have a solid foundation in Python programming that will enable you to tackle more advanced projects.\n",
    "\n",
    "# Lab Objectives:\n",
    "\n",
    "Learn the basics of Python programming, including data types, variables, control structures, and functions.\n",
    "Write Python code to solve simple problems.\n",
    "Practice using Python libraries and modules.\n",
    "Gain confidence in your ability to program in Python.\n",
    "\n",
    "\n",
    "# Topics \n",
    "Introduction to Python and the Python environment\n",
    "Basic Python syntax and data types\n",
    "Variables and basic operations\n",
    "Control structures (if/else statements, loops)\n",
    "Functions\n",
    "Modules and libraries\n",
    "Putting it all together: a simple Python program"
   ]
  },
  {
   "cell_type": "markdown",
   "id": "91ca0772",
   "metadata": {},
   "source": [
    "# Python: Getting Started\n",
    "\n",
    "\n",
    "\n"
   ]
  },
  {
   "cell_type": "markdown",
   "id": "97c5d351",
   "metadata": {},
   "source": [
    "In python for printing any value we use print "
   ]
  },
  {
   "cell_type": "code",
   "execution_count": 9,
   "id": "cb1eb543",
   "metadata": {},
   "outputs": [
    {
     "name": "stdout",
     "output_type": "stream",
     "text": [
      "Hello, World!\n"
     ]
    }
   ],
   "source": [
    "print(\"Hello, World!\")"
   ]
  },
  {
   "cell_type": "markdown",
   "id": "f19c9f55",
   "metadata": {},
   "source": [
    "## Variables\n",
    "Variables are containers for storing data values."
   ]
  },
  {
   "cell_type": "markdown",
   "id": "89b096d5",
   "metadata": {},
   "source": [
    "## Creating Variables\n",
    "Python has no command for declaring a variable.\n",
    "\n",
    "A variable is created the moment you first assign a value to it."
   ]
  },
  {
   "cell_type": "code",
   "execution_count": null,
   "id": "7b2fc6d9",
   "metadata": {},
   "outputs": [],
   "source": [
    "x = 5\n",
    "y = \"John\"\n",
    "print(x)\n",
    "print(y)"
   ]
  },
  {
   "cell_type": "markdown",
   "id": "4c573bb0",
   "metadata": {},
   "source": [
    "## Simple Calculations\n",
    "\n",
    "\n",
    "In addition to all the more complex things you can do in Python, it is also useful for completing simple mathematical operations.\n",
    "\n",
    "### Addition and Subtraction\n",
    "\n",
    "Add numbers together like this:"
   ]
  },
  {
   "cell_type": "code",
   "execution_count": 1,
   "id": "60bba0e9",
   "metadata": {},
   "outputs": [
    {
     "data": {
      "text/plain": [
       "2"
      ]
     },
     "execution_count": 1,
     "metadata": {},
     "output_type": "execute_result"
    }
   ],
   "source": [
    "1+1\n"
   ]
  },
  {
   "cell_type": "markdown",
   "id": "56706300",
   "metadata": {},
   "source": [
    "Notice that you don't need to include = in order to make the operation work.\n",
    "\n",
    "### Subtract numbers like this:"
   ]
  },
  {
   "cell_type": "code",
   "execution_count": 2,
   "id": "a61d50eb",
   "metadata": {},
   "outputs": [
    {
     "data": {
      "text/plain": [
       "1"
      ]
     },
     "execution_count": 2,
     "metadata": {},
     "output_type": "execute_result"
    }
   ],
   "source": [
    "2 - 1"
   ]
  },
  {
   "cell_type": "markdown",
   "id": "e531814b",
   "metadata": {},
   "source": [
    "### Division\n",
    "\n",
    "\n",
    "Divide numbers like this:"
   ]
  },
  {
   "cell_type": "code",
   "execution_count": 3,
   "id": "5a688976",
   "metadata": {},
   "outputs": [
    {
     "data": {
      "text/plain": [
       "2.0"
      ]
     },
     "execution_count": 3,
     "metadata": {},
     "output_type": "execute_result"
    }
   ],
   "source": [
    "4 / 2"
   ]
  },
  {
   "cell_type": "markdown",
   "id": "fe6c7e90",
   "metadata": {},
   "source": [
    "Remember that Python will return an error if you try to divide by 0!\n",
    "\n",
    "### Modulo Division\n",
    "\n",
    "Perform modulo division like this"
   ]
  },
  {
   "cell_type": "code",
   "execution_count": 4,
   "id": "aa8bd4e3",
   "metadata": {},
   "outputs": [
    {
     "data": {
      "text/plain": [
       "1"
      ]
     },
     "execution_count": 4,
     "metadata": {},
     "output_type": "execute_result"
    }
   ],
   "source": [
    "5 % 2"
   ]
  },
  {
   "cell_type": "markdown",
   "id": "2ff66a06",
   "metadata": {},
   "source": [
    "### Multiplication\n",
    "\n",
    "Multiply numbers like this:"
   ]
  },
  {
   "cell_type": "code",
   "execution_count": 6,
   "id": "161489e4",
   "metadata": {},
   "outputs": [
    {
     "data": {
      "text/plain": [
       "8"
      ]
     },
     "execution_count": 6,
     "metadata": {},
     "output_type": "execute_result"
    }
   ],
   "source": [
    "4 * 2"
   ]
  },
  {
   "cell_type": "markdown",
   "id": "3163d869",
   "metadata": {},
   "source": [
    "### Exponents\n",
    "Add exponents to numbers like this:"
   ]
  },
  {
   "cell_type": "code",
   "execution_count": 7,
   "id": "cce5f361",
   "metadata": {},
   "outputs": [
    {
     "data": {
      "text/plain": [
       "16"
      ]
     },
     "execution_count": 7,
     "metadata": {},
     "output_type": "execute_result"
    }
   ],
   "source": [
    "4**2"
   ]
  },
  {
   "cell_type": "markdown",
   "id": "55648f93",
   "metadata": {},
   "source": [
    "## Order of Operations\n",
    "Just like everywhere else, Python works on a specific order of operations. That order is:\n",
    "\n",
    "Parentheses Exponents Multiplication Addition Subtraction\n",
    "\n",
    "If you remember being taught PEMDAS or BODMAS , then this is the same thing! All the operations in Python work with levels of parentheses, so if you wanted to add two numbers together, and then add another number to the result, the code would look like this:"
   ]
  },
  {
   "cell_type": "code",
   "execution_count": null,
   "id": "f16c54a4",
   "metadata": {},
   "outputs": [],
   "source": [
    "(6 + 4) + 4"
   ]
  },
  {
   "cell_type": "markdown",
   "id": "b482c498",
   "metadata": {},
   "source": [
    "Things get more complicated when we add more terms to the equation, but the principle remains the same: if you open a set of parentheses, make sure you close it too. Here's an example that uses all the PEMDAS possibilities:"
   ]
  },
  {
   "cell_type": "code",
   "execution_count": 1,
   "id": "3d9a8b8d",
   "metadata": {},
   "outputs": [
    {
     "data": {
      "text/plain": [
       "40.0"
      ]
     },
     "execution_count": 1,
     "metadata": {},
     "output_type": "execute_result"
    }
   ],
   "source": [
    "(((5**3 + 7) * 4) / 16 + 9 - 2)"
   ]
  },
  {
   "cell_type": "markdown",
   "id": "8e47edae",
   "metadata": {},
   "source": [
    "# Datatypes\n",
    "There are lots of different types of data in the world, and Python groups that data into several categories.\n",
    "\n",
    "**Boolean** (`bool`)**:** \n",
    "- Any data which can be expressed as either `True` or `False`.\n",
    "- Used when comparing two values. For example, if you enter `10 > 9`, Python will return `True`.\n",
    "\n",
    "**String** (`str`)**:**\n",
    "\n",
    "- Data that involves text — either letters, numbers, or special characters. \n",
    "- Strings are enclosed in either single- or double-quotation marks: `\"string-1\"` or `'string-2'`.\n",
    "\n",
    "**Numeric** (`int`, `float`, `complex`)**:**\n",
    "\n",
    "- Data that can be expressed numerically.\n",
    "- An integer, or `int`, is a whole number, positive or negative, without decimals, of unlimited length:  `123`.\n",
    "- A floating-point number, or `float`, is a number, positive or negative, containing one or more decimals: `123.01`.\n",
    "- A complex number, or `complex`, are imaginary numbers, designated by a `j`: `(3 + 6j)`.\n",
    "\n",
    "**Sequence** (`list`, `tuple`, `set`)**:**\n",
    "\n",
    "- Data that is a collection of discrete items.\n",
    "- A `list` is collection that is ordered and changeable. It's designated using square brackets `[]`, and items can be of different data types: `[\"red\", 1, 1.03, 1]`.\n",
    "- A `tuple` is a collection which is ordered and unchangeable. It's designated using parentheses `()`: `(\"red\", 1, 1.03, 1)`.\n",
    "- A `set` is a collection which is unordered, unchangeable, and does not permit duplicate items. It's designated using curly brackets `{}`: `{\"red\", 1, 1.03}`.\n",
    "\n",
    "**Mapping** (`dict`)**:** \n",
    "- Dictionaries store data in *key-value* pairs. They're designated using curly brackets `{}`, like a `set`, but notice that keys and values are associated with each other using a colon `:`. Each pair is separated from the next using a comma `,`.\n",
    "\n",
    "```python\n",
    "dict1 = {\n",
    "    \"department\": \"quindio\", \n",
    "    \"property_type\": \"house\", \n",
    "    \"price_usd\": 330899.98\n",
    "}\n",
    "```\n",
    "\n",
    "**Binary** (`bytes`, `bytearray`, `memoryview`)**:**\n",
    "- Used to manipulate and display binary data. That is, data that can be expressed with integers represented with base 2.\n",
    "- Unlike the other data types described above, `binary` types are not human-readable."
   ]
  },
  {
   "cell_type": "markdown",
   "id": "5d263b5c",
   "metadata": {},
   "source": [
    "# Lists\n",
    "\n",
    "In Python, a **list** is a collection of data that stores multiple items in a single variable. These items must be ordered, able to be changed, and can be duplicated. A list can store data of multiple types; not all the items in the list need to be the same type.\n"
   ]
  },
  {
   "cell_type": "markdown",
   "id": "b0a3863e",
   "metadata": {},
   "source": [
    "## Creating Lists\n",
    "Lists can be as long or as short as you like. Let's create a short list based on data from the Colombian real estate market to give us something to work with.\n",
    "\n",
    "Lists are written with square brackets. Code for a short list that shows the price of houses in US dollars looks like this:"
   ]
  },
  {
   "cell_type": "code",
   "execution_count": 2,
   "id": "610b6418",
   "metadata": {},
   "outputs": [
    {
     "name": "stdout",
     "output_type": "stream",
     "text": [
      "[97919.38, 300511.2, 293758.14]\n"
     ]
    }
   ],
   "source": [
    "price_usd = [97919.38, 300511.20, 293758.14]\n",
    "print(price_usd)"
   ]
  },
  {
   "cell_type": "markdown",
   "id": "2f652d83",
   "metadata": {},
   "source": [
    "## Working with Lists\n",
    "After you've created a list, you can **access** any item on the list by referring to the item's index number. Keep in mind that in Python, the first item in a list is always 0. \n",
    "\n",
    "Let's access the second item of our `price_usd` list."
   ]
  },
  {
   "cell_type": "code",
   "execution_count": null,
   "id": "b3a266bd",
   "metadata": {},
   "outputs": [],
   "source": [
    "print(price_usd[1])"
   ]
  },
  {
   "cell_type": "markdown",
   "id": "8da2e918",
   "metadata": {},
   "source": [
    "<font size=\"+1\">Practice</font>\n",
    "\n",
    "Try it yourself! Create and print a list that shows the area of the houses, called `area_m2`. Include the items `187.0`, `82.0`, and `235.0`."
   ]
  },
  {
   "cell_type": "code",
   "execution_count": 3,
   "id": "78033bec",
   "metadata": {},
   "outputs": [
    {
     "name": "stdout",
     "output_type": "stream",
     "text": [
      "Ellipsis\n"
     ]
    }
   ],
   "source": [
    "area_m2 = ...\n",
    "print(area_m2)"
   ]
  },
  {
   "cell_type": "markdown",
   "id": "0c766d6e",
   "metadata": {},
   "source": [
    "If we want to access the an item at the end of the list, we can use **negative indexing**. In negative indexing, -1 refers to the last item, -2 to the second to last, and so on. \n",
    "\n",
    "Let's access the last item in our `department` list."
   ]
  },
  {
   "cell_type": "code",
   "execution_count": null,
   "id": "f31b74e1",
   "metadata": {},
   "outputs": [],
   "source": [
    "print(price_usd[-1])"
   ]
  },
  {
   "cell_type": "markdown",
   "id": "b36e9e2c",
   "metadata": {},
   "source": [
    "<font size=\"+1\">Practice</font>\n",
    "\n",
    "Try accessing the second item in your `area_m2` list."
   ]
  },
  {
   "cell_type": "code",
   "execution_count": null,
   "id": "380cd27d",
   "metadata": {},
   "outputs": [],
   "source": []
  },
  {
   "cell_type": "markdown",
   "id": "4a091906",
   "metadata": {},
   "source": [
    "Try accessing the last item in the same list."
   ]
  },
  {
   "cell_type": "code",
   "execution_count": null,
   "id": "5ee1251f",
   "metadata": {},
   "outputs": [],
   "source": []
  },
  {
   "cell_type": "markdown",
   "id": "9d4e0c28",
   "metadata": {},
   "source": [
    "### Appending Items\n",
    "It's also possible to add an item to a list that already exists using the  `append` method like this:"
   ]
  },
  {
   "cell_type": "code",
   "execution_count": null,
   "id": "29ab16bd",
   "metadata": {},
   "outputs": [],
   "source": [
    "price_usd.append(540244.86)"
   ]
  },
  {
   "cell_type": "markdown",
   "id": "5dd4c271",
   "metadata": {},
   "source": [
    "<font size=\"+1\">Practice</font>\n",
    "\n",
    "Add the item `195.0` to your `area_m2` list."
   ]
  },
  {
   "cell_type": "code",
   "execution_count": null,
   "id": "1fc79a6b",
   "metadata": {},
   "outputs": [],
   "source": [
    "print(area_m2)"
   ]
  },
  {
   "cell_type": "markdown",
   "id": "20f39988",
   "metadata": {},
   "source": [
    "### Aggregating Items\n",
    "\n",
    "We can also **aggregate** items on a list to make analyzing the list more useful. For example, if we wanted to know the total value in US dollars of the houses on our `price_usd` list, we could use the `sum` method."
   ]
  },
  {
   "cell_type": "code",
   "execution_count": null,
   "id": "02d6dd6e",
   "metadata": {},
   "outputs": [],
   "source": [
    "total_usd = sum(price_usd)"
   ]
  },
  {
   "cell_type": "markdown",
   "id": "b4e9835f",
   "metadata": {},
   "source": [
    "We might also be interested in the average value in US dollars of the houses on the same list. To find the average, we add the `len` method to the `sum` method."
   ]
  },
  {
   "cell_type": "code",
   "execution_count": 4,
   "id": "9c549065",
   "metadata": {},
   "outputs": [],
   "source": [
    "average_usd = sum(price_usd) / len(price_usd)"
   ]
  },
  {
   "cell_type": "markdown",
   "id": "32d75ceb",
   "metadata": {},
   "source": [
    "<font size=\"+1\">Practice</font>\n",
    "\n",
    "Try it yourself! Calculate the total area of the houses on your `area_m2` list, and find the average area of all the houses on the list. "
   ]
  },
  {
   "cell_type": "code",
   "execution_count": null,
   "id": "e1329281",
   "metadata": {},
   "outputs": [],
   "source": [
    "total_area_m2 = ...\n",
    "print(total_area_m2)"
   ]
  },
  {
   "cell_type": "code",
   "execution_count": 6,
   "id": "a432e462",
   "metadata": {},
   "outputs": [
    {
     "name": "stdout",
     "output_type": "stream",
     "text": [
      "Ellipsis\n"
     ]
    }
   ],
   "source": [
    "average_area_m2 = ...\n",
    "print(average_area_m2)"
   ]
  },
  {
   "cell_type": "markdown",
   "id": "0a0a0a76",
   "metadata": {},
   "source": [
    "## Working with Dictionaries \n",
    "\n",
    "After you've created a dictionary, you can **access** any item by using its key name inside square brackets.\n",
    "\n",
    "Going back to our example dictionary, let's access the value for \"department\"."
   ]
  },
  {
   "cell_type": "code",
   "execution_count": null,
   "id": "b8367746",
   "metadata": {},
   "outputs": [],
   "source": [
    "x = colomdict[\"department\"]\n",
    "print(x)"
   ]
  },
  {
   "cell_type": "markdown",
   "id": "0406b801",
   "metadata": {},
   "source": [
    "<font size=\"+1\">Practice</font>\n",
    "\n",
    "Try accessing the value for `price_usd` in the Bogotá dictionary you created above."
   ]
  },
  {
   "cell_type": "code",
   "execution_count": null,
   "id": "e16e9399",
   "metadata": {},
   "outputs": [],
   "source": [
    "x = ...\n"
   ]
  },
  {
   "cell_type": "markdown",
   "id": "b55f5db0",
   "metadata": {},
   "source": [
    "You can also use `get` to retrieve a value. That looks like this:"
   ]
  },
  {
   "cell_type": "code",
   "execution_count": null,
   "id": "365f1adc",
   "metadata": {},
   "outputs": [],
   "source": [
    "x = colomdict.get(\"department\")"
   ]
  },
  {
   "cell_type": "markdown",
   "id": "19bf1ead",
   "metadata": {},
   "source": [
    "<font size=\"+1\">Practice</font>\n",
    "\n",
    "Now try accessing the value for `area_m2` using the `get` method, and print the result."
   ]
  },
  {
   "cell_type": "code",
   "execution_count": null,
   "id": "7d52f43c",
   "metadata": {},
   "outputs": [],
   "source": [
    "x = ...\n"
   ]
  },
  {
   "cell_type": "markdown",
   "id": "2b698b2a",
   "metadata": {},
   "source": [
    "### Dictionary Keys\n",
    "Sometimes you want to know what the keys are in the dictionary, or you want to iterate through the dictionary. In such cases, you need to write code to access all keys in a dictionary by utilizing the `keys` method:"
   ]
  },
  {
   "cell_type": "code",
   "execution_count": null,
   "id": "d9819cb6",
   "metadata": {},
   "outputs": [],
   "source": [
    "colomdict.keys()"
   ]
  },
  {
   "cell_type": "markdown",
   "id": "843de7d5",
   "metadata": {},
   "source": [
    "If you need to use the keys in a list, you can transform the output:"
   ]
  },
  {
   "cell_type": "code",
   "execution_count": null,
   "id": "227ccbe4",
   "metadata": {},
   "outputs": [],
   "source": [
    "list(colomdict.keys())"
   ]
  },
  {
   "cell_type": "markdown",
   "id": "856cf4fe",
   "metadata": {},
   "source": [
    "You can also iterate though `colomdict.keys()` without converting it to a list:"
   ]
  },
  {
   "cell_type": "code",
   "execution_count": null,
   "id": "419b9326",
   "metadata": {},
   "outputs": [],
   "source": [
    "for k in colomdict.keys():\n",
    "    print(k)"
   ]
  },
  {
   "cell_type": "markdown",
   "id": "0980f20a",
   "metadata": {},
   "source": [
    "<font size=\"+1\">Practice</font>\n",
    "\n",
    "print the value of each key in the `colomdict` dictionary"
   ]
  },
  {
   "cell_type": "code",
   "execution_count": null,
   "id": "d503a4c5",
   "metadata": {},
   "outputs": [],
   "source": []
  },
  {
   "cell_type": "markdown",
   "id": "a04d5133",
   "metadata": {},
   "source": [
    "### Zipping Items\n",
    "\n",
    "Finally, it might be useful to combine -- or **zip** -- two lists together. For example, we might want to create a new list that pairs the values in our `price_usd` list with our `area_m2` list. To do that, we use the `zip` method. The code looks like this:\n",
    "\n",
    "You might have noticed that the above code involving putting one list (in this case, `new_list`) inside another list (in this case, `list`). This approach is called a **generator**, and we'll come back to what that is and how it works later in the course. "
   ]
  },
  {
   "cell_type": "code",
   "execution_count": null,
   "id": "c7902fad",
   "metadata": {},
   "outputs": [],
   "source": [
    "new_list = zip(price_usd, area_m2)\n",
    "zipped_list = list(new_list)"
   ]
  },
  {
   "cell_type": "code",
   "execution_count": null,
   "id": "a8c828af",
   "metadata": {},
   "outputs": [],
   "source": [
    "<font size=\"+1\">Practice</font>\n",
    "\n",
    "Try it yourself! Create a list called `area_m2` that includes the terms `235.0`, `130.0`, and `137.0`, then create another list called `price_cop` that includes the terms `400000000.0`, `850000000.0`, and `475000000.0`. Then zip them together to create a new list called `area_price`, and `print` the result."
   ]
  },
  {
   "cell_type": "code",
   "execution_count": 7,
   "id": "ac77027a",
   "metadata": {},
   "outputs": [],
   "source": [
    "area_m2 = ..."
   ]
  },
  {
   "cell_type": "markdown",
   "id": "98a9072d",
   "metadata": {},
   "source": [
    "# Python `for` Loops"
   ]
  },
  {
   "cell_type": "markdown",
   "id": "2bd8a6d5",
   "metadata": {},
   "source": [
    "A `for` Loop is used for executing a set of statements for each item in a list."
   ]
  },
  {
   "cell_type": "markdown",
   "id": "8ad57237",
   "metadata": {},
   "source": [
    "## Working with `for` Loops\n",
    "\n",
    "There can be as many statements as there are items in the list, but to keep things manageable, let's use our list of real estate values in Colombia."
   ]
  },
  {
   "cell_type": "code",
   "execution_count": 8,
   "id": "9f451786",
   "metadata": {},
   "outputs": [
    {
     "name": "stdout",
     "output_type": "stream",
     "text": [
      "[97919.38, 300511.2, 293758.14, 540244.86]\n"
     ]
    }
   ],
   "source": [
    "price_usd = [97919.38, 300511.20, 293758.14, 540244.86]\n",
    "print(price_usd)"
   ]
  },
  {
   "cell_type": "markdown",
   "id": "f5dd61b2",
   "metadata": {},
   "source": [
    "We might want to see each of the values in the list, so we insert a `for` Loop:"
   ]
  },
  {
   "cell_type": "code",
   "execution_count": 9,
   "id": "59e0cabc",
   "metadata": {},
   "outputs": [
    {
     "name": "stdout",
     "output_type": "stream",
     "text": [
      "8127308.54\n",
      "24942429.6\n",
      "24381925.62\n",
      "44840323.379999995\n"
     ]
    }
   ],
   "source": [
    "price_usd = [97919.38, 300511.20, 293758.14, 540244.86]\n",
    "for x in price_usd:\n",
    "    print(x * 83)"
   ]
  },
  {
   "cell_type": "markdown",
   "id": "77e0c749",
   "metadata": {},
   "source": [
    "Note that the `print` command is indented."
   ]
  },
  {
   "cell_type": "markdown",
   "id": "f1342509",
   "metadata": {},
   "source": [
    "<font size=\"+1\">Practice</font>\n",
    "\n",
    "Try it yourself using the `area_m2` list:"
   ]
  },
  {
   "cell_type": "code",
   "execution_count": null,
   "id": "011355a5",
   "metadata": {},
   "outputs": [],
   "source": [
    "area_m2 =[1,2,3,4,5]"
   ]
  },
  {
   "cell_type": "code",
   "execution_count": null,
   "id": "29ff4509",
   "metadata": {},
   "outputs": [],
   "source": [
    "for i in area_m2:\n",
    "    if i%2==0:\n",
    "        print(\"The value is \",i)\n"
   ]
  },
  {
   "cell_type": "markdown",
   "id": "8bb8a85d",
   "metadata": {},
   "source": [
    "# Conditionals\n",
    "### Testing truth value\n",
    "#### bool"
   ]
  },
  {
   "cell_type": "code",
   "execution_count": 11,
   "id": "ef782ac5",
   "metadata": {},
   "outputs": [
    {
     "name": "stdout",
     "output_type": "stream",
     "text": [
      "type of True and False: <class 'bool'>\n"
     ]
    }
   ],
   "source": [
    "print(f\"type of True and False: {type(True)}\")"
   ]
  },
  {
   "cell_type": "code",
   "execution_count": 10,
   "id": "5e913a31",
   "metadata": {},
   "outputs": [
    {
     "name": "stdout",
     "output_type": "stream",
     "text": [
      "0: False, 1: True\n",
      "empty list: False, list with values: True\n",
      "empty dict: False, dict with values: True\n"
     ]
    }
   ],
   "source": [
    "print('0: {}, 1: {}'.format(bool(0), bool(1)))\n",
    "print('empty list: {}, list with values: {}'.format(bool([]), bool(['woop'])))\n",
    "print('empty dict: {}, dict with values: {}'.format(bool({}), bool({'Python': 'cool'})))"
   ]
  },
  {
   "cell_type": "markdown",
   "id": "e78a7bde",
   "metadata": {},
   "source": [
    "### ==, !=, >, <, >=, <="
   ]
  },
  {
   "cell_type": "code",
   "execution_count": null,
   "id": "ac9e765d",
   "metadata": {},
   "outputs": [],
   "source": [
    "print('1 == 0: {}'.format(1 == 0))\n",
    "print('1 != 0: {}'.format(1 != 0))\n",
    "print('1 > 0: {}'.format(1 > 0))\n",
    "print('1 > 1: {}'.format(1 > 1))\n",
    "print('1 < 0: {}'.format(1 < 0))\n",
    "print('1 < 1: {}'.format(1 < 1))\n",
    "print('1 >= 0: {}'.format(1 >= 0))\n",
    "print('1 >= 1: {}'.format(1 >= 1))\n",
    "print('1 <= 0: {}'.format(1 <= 0))\n",
    "print('1 <= 1: {}'.format(1 <= 1))"
   ]
  },
  {
   "cell_type": "markdown",
   "id": "66374445",
   "metadata": {},
   "source": [
    "You can combine these:"
   ]
  },
  {
   "cell_type": "code",
   "execution_count": null,
   "id": "dc130762",
   "metadata": {},
   "outputs": [],
   "source": [
    "print('1 <= 2 <= 3: {}'.format(1 <= 2 <= 3))"
   ]
  },
  {
   "cell_type": "markdown",
   "id": "8458862c",
   "metadata": {},
   "source": [
    "### and, or, no"
   ]
  },
  {
   "cell_type": "code",
   "execution_count": null,
   "id": "033ae31a",
   "metadata": {},
   "outputs": [],
   "source": [
    "python_is_cool = True\n",
    "java_is_cool = False\n",
    "empty_list = []\n",
    "secret_value = 3.14"
   ]
  },
  {
   "cell_type": "code",
   "execution_count": null,
   "id": "97e9dcc0",
   "metadata": {},
   "outputs": [],
   "source": [
    "print('Python and java are both cool: {}'.format(python_is_cool and java_is_cool))\n",
    "print('secret_value and python_is_cool: {}'.format(secret_value and python_is_cool))"
   ]
  },
  {
   "cell_type": "code",
   "execution_count": null,
   "id": "994ffc77",
   "metadata": {},
   "outputs": [],
   "source": [
    "print('Python or java is cool: {}'.format(python_is_cool or java_is_cool))\n",
    "print('1 >= 1.1 or 2 < float(\"1.4\"): {}'.format(1 >= 1.1 or 2 < float('1.4')))"
   ]
  },
  {
   "cell_type": "code",
   "execution_count": null,
   "id": "06cac29d",
   "metadata": {},
   "outputs": [],
   "source": [
    "print('Java is not cool: {}'.format(not java_is_cool))"
   ]
  },
  {
   "cell_type": "markdown",
   "id": "bd2fbcba",
   "metadata": {},
   "source": [
    "You can combine multiple statements, execution order is from left to right. You can control the execution order by using brackets."
   ]
  },
  {
   "cell_type": "code",
   "execution_count": null,
   "id": "b209ef0d",
   "metadata": {},
   "outputs": [],
   "source": [
    "print(bool(not java_is_cool or secret_value and  python_is_cool or empty_list))\n",
    "print(bool(not (java_is_cool or secret_value and  python_is_cool or empty_list)))"
   ]
  },
  {
   "cell_type": "markdown",
   "id": "3ab7dffd",
   "metadata": {},
   "source": [
    "## if"
   ]
  },
  {
   "cell_type": "code",
   "execution_count": null,
   "id": "17ae4a8b",
   "metadata": {},
   "outputs": [],
   "source": [
    "statement = True\n",
    "if statement:\n",
    "    print('statement is True')\n",
    "    \n",
    "if not statement:\n",
    "    print('statement is not True')"
   ]
  },
  {
   "cell_type": "code",
   "execution_count": null,
   "id": "168c02f4",
   "metadata": {},
   "outputs": [],
   "source": [
    "empty_list = []\n",
    "# With if and elif, conversion to `bool` is implicit\n",
    "if empty_list:\n",
    "    print('empty list will not evaluate to True')  # this won't be executed"
   ]
  },
  {
   "cell_type": "code",
   "execution_count": null,
   "id": "876cbeff",
   "metadata": {},
   "outputs": [],
   "source": [
    "val = 3\n",
    "if 0 <= val < 1 or val == 3:\n",
    "    print('Value is positive and less than one or value is three')"
   ]
  },
  {
   "cell_type": "markdown",
   "id": "70f88870",
   "metadata": {},
   "source": [
    "## if-else\n"
   ]
  },
  {
   "cell_type": "code",
   "execution_count": null,
   "id": "6533d298",
   "metadata": {},
   "outputs": [],
   "source": [
    "my_dict = {}\n",
    "if my_dict:\n",
    "    print('there is something in my dict')\n",
    "else:\n",
    "    print('my dict is empty :(')"
   ]
  },
  {
   "cell_type": "markdown",
   "id": "cc2a9108",
   "metadata": {},
   "source": [
    "## if-elif-else\n"
   ]
  },
  {
   "cell_type": "code",
   "execution_count": null,
   "id": "03985480",
   "metadata": {},
   "outputs": [],
   "source": [
    "val = 88\n",
    "if val >= 100:\n",
    "    print('value is equal or greater than 100')\n",
    "elif val > 10:\n",
    "    print('value is greater than 10 but less than 100')\n",
    "else:\n",
    "    print('value is equal or less than 10')"
   ]
  },
  {
   "cell_type": "markdown",
   "id": "7b6839b4",
   "metadata": {},
   "source": [
    "You can have as many `elif` statements as you need. In addition, `else` at the end is not mandatory."
   ]
  },
  {
   "cell_type": "code",
   "execution_count": null,
   "id": "4ab0ad56",
   "metadata": {},
   "outputs": [],
   "source": [
    "greeting = 'Hello fellow Pythonista!'\n",
    "language = 'Italian'\n",
    "\n",
    "if language == 'Swedish':\n",
    "    greeting = 'Hejsan!'\n",
    "elif language == 'Finnish':\n",
    "    greeting = 'Latua perkele!'\n",
    "elif language == 'Spanish':\n",
    "    greeting = 'Hola!'\n",
    "elif language == 'German':\n",
    "    greeting = 'Guten Tag!'\n",
    "    \n",
    "print(greeting)"
   ]
  },
  {
   "cell_type": "markdown",
   "id": "6e6cd593",
   "metadata": {},
   "source": [
    "### File Handling in Python\n",
    "Python too supports file handling and allows users to handle files i.e., to read and write files, along with many other file handling options, to operate on files.\n",
    "\n",
    "\n",
    "\n",
    "#### Working of open() function\n",
    "Before performing any operation on the file like reading or writing, first, we have to open that file. For this, we should use Python’s inbuilt function open() but at the time of opening, we have to specify the mode, which represents the purpose of the opening file.\n"
   ]
  },
  {
   "cell_type": "code",
   "execution_count": null,
   "id": "bf567c1a",
   "metadata": {},
   "outputs": [],
   "source": [
    "f = open(filename, mode)"
   ]
  },
  {
   "cell_type": "code",
   "execution_count": 12,
   "id": "0e714d99",
   "metadata": {},
   "outputs": [
    {
     "name": "stdout",
     "output_type": "stream",
     "text": [
      "My name is akash \n",
      "\n",
      "I am part of AKS team\n",
      "\n"
     ]
    }
   ],
   "source": [
    "\n",
    "\n",
    "# a file named \"sample\", will be opened with the reading mode.\n",
    "# Here give the file name of your computer \n",
    "file = open(r\"C:\\Users\\akashdwivedi\\Downloads\\sample.txt\", 'r')\n",
    "# This will print every line one by one in the file\n",
    "for each in file:\n",
    "    print (each)"
   ]
  },
  {
   "cell_type": "markdown",
   "id": "73efad2d",
   "metadata": {},
   "source": [
    "### JSON\n",
    "JSON stands for Java Script Object Notation, and it's a text format for storing and transporting data.\n",
    "#### Working with JSON\n",
    "\n",
    "JSON works by creating **key-value pairs**, where the key is data that can be represented by letters (called a **string**). JSON values can be strings, numbers, objects, arrays, boolean data, or null. JSON usually comes as a list of dictionaries, which look like this:\n",
    "\n",
    "Here's an example from our `colombia-real-estate-1` dataset with two key-value pairs that both include string values:"
   ]
  },
  {
   "cell_type": "code",
   "execution_count": 13,
   "id": "35b87be7",
   "metadata": {},
   "outputs": [
    {
     "data": {
      "text/plain": [
       "[{'property_type': 'house', 'department': 'bogota'},\n",
       " {'property_type': 'house', 'department': 'bogota'},\n",
       " {'property_type': 'house', 'department': 'bogota'}]"
      ]
     },
     "execution_count": 13,
     "metadata": {},
     "output_type": "execute_result"
    }
   ],
   "source": [
    "[\n",
    "    {\"property_type\": \"house\", \"department\": \"bogota\"},\n",
    "    {\"property_type\": \"house\", \"department\": \"bogota\"},\n",
    "    {\"property_type\": \"house\", \"department\": \"bogota\"},\n",
    "]"
   ]
  },
  {
   "cell_type": "markdown",
   "id": "64ee44a6",
   "metadata": {},
   "source": [
    "Python has a built-in package called json, which can be used to work with JSON data."
   ]
  },
  {
   "cell_type": "code",
   "execution_count": 14,
   "id": "e67e70c6",
   "metadata": {},
   "outputs": [
    {
     "name": "stdout",
     "output_type": "stream",
     "text": [
      "30\n"
     ]
    }
   ],
   "source": [
    "import json\n",
    "\n",
    "# some JSON:\n",
    "x =  '{ \"name\":\"John\", \"age\":30, \"city\":\"New York\"}'\n",
    "\n",
    "# parse x:\n",
    "y = json.loads(x)\n",
    "\n",
    "# the result is a Python dictionary:\n",
    "print(y[\"age\"])"
   ]
  },
  {
   "cell_type": "markdown",
   "id": "a8340641",
   "metadata": {},
   "source": [
    "### Functions\n",
    "When we code in Python, we want to create readable programs. One of the easiest ways to make a program readable is by not repeating sections of code that do the same thing. We do that by using functions. For example, you might have surface area of a property in square meters, but you want to see it in square feet. Keeping in mind that one square meter = 10.76391 square feet, you can write a function that starts with the area in square meters, and gives as output the area in square feet. The code looks like this:\n",
    "\n"
   ]
  },
  {
   "cell_type": "code",
   "execution_count": 17,
   "id": "f9ed9cb2",
   "metadata": {},
   "outputs": [],
   "source": [
    "def sum_num(a,b):\n",
    "    summation = a+b\n",
    "    return summation"
   ]
  },
  {
   "cell_type": "code",
   "execution_count": 18,
   "id": "9866ac04",
   "metadata": {},
   "outputs": [
    {
     "name": "stdout",
     "output_type": "stream",
     "text": [
      "3\n"
     ]
    }
   ],
   "source": [
    "print(sum_num(1,2))"
   ]
  },
  {
   "cell_type": "markdown",
   "id": "5a831232",
   "metadata": {},
   "source": [
    "A function by itself can be difficult to understand, so let's add some comments describing what the function does."
   ]
  },
  {
   "cell_type": "code",
   "execution_count": 19,
   "id": "128c7799",
   "metadata": {},
   "outputs": [],
   "source": [
    "def sum_num(a,b):\n",
    "    \"\"\"\n",
    "    This function takes in two inputs as the numeric value \n",
    "    and returns as an output as sum of these value\n",
    "\n",
    "    input: :- a= Num 1  b=Num 2 \n",
    "    output: summation, the sum of two numbers\n",
    "    \"\"\"\n",
    "    summation = a+b\n",
    "    return summation"
   ]
  },
  {
   "cell_type": "markdown",
   "id": "14470624",
   "metadata": {},
   "source": [
    "### The HELP function \n",
    "\n",
    "The Python help function is used to display the documentation of modules, functions, classes, keywords, etc. "
   ]
  },
  {
   "cell_type": "code",
   "execution_count": 20,
   "id": "3e94b217",
   "metadata": {},
   "outputs": [
    {
     "name": "stdout",
     "output_type": "stream",
     "text": [
      "Help on function sum_num in module __main__:\n",
      "\n",
      "sum_num(a, b)\n",
      "    This function takes in two inputs as the numeric value \n",
      "    and returns as an output as sum of these value\n",
      "    \n",
      "    input: :- a= Num 1  b=Num 2 \n",
      "    output: summation, the sum of two numbers\n",
      "\n"
     ]
    }
   ],
   "source": [
    "help(sum_num)"
   ]
  },
  {
   "cell_type": "code",
   "execution_count": 21,
   "id": "429e4451",
   "metadata": {},
   "outputs": [
    {
     "name": "stdout",
     "output_type": "stream",
     "text": [
      "Help on built-in function sum in module builtins:\n",
      "\n",
      "sum(iterable, /, start=0)\n",
      "    Return the sum of a 'start' value (default: 0) plus an iterable of numbers\n",
      "    \n",
      "    When the iterable is empty, return the start value.\n",
      "    This function is intended specifically for use with numeric values and may\n",
      "    reject non-numeric types.\n",
      "\n"
     ]
    }
   ],
   "source": [
    "help(sum)"
   ]
  },
  {
   "cell_type": "markdown",
   "id": "63c5d8fb",
   "metadata": {},
   "source": [
    "# References & Further Reading\n",
    "\n",
    "- [A guide to basic math operations in Python](https://codingexplained.com/coding/python/basic-math-operators-in-python)\n",
    "- [Python documentation on built-in data types](https://docs.python.org/3/library/stdtypes.html)\n",
    "- [Summary of Python data types](https://www.w3schools.com/python/python_datatypes.asp)\n",
    "- [Tutorial on type conversion in Python](https://www.datacamp.com/community/tutorials/python-data-type-conversion)\n",
    "- [A description of how dictionaries work in Python](https://www.w3schools.com/python/python_dictionaries.asp)\n",
    "- [An introduction to JSON](https://www.w3schools.com/js/js_json_syntax.asp)\n",
    "- [An introduction to lists in Python](https://www.w3schools.com/python/python_lists.asp)\n",
    "- [How to zip lists](https://www.kite.com/python/answers/how-to-zip-two-lists-in-python)\n",
    "- [Calculating mean, median, and mode in Python](https://stackabuse.com/calculating-mean-median-and-mode-in-python/)\n",
    "- [A brief tutorial of For Loops](https://www.w3schools.com/python/python_for_loops.asp)\n",
    "- [Help Function in Python](https://www.geeksforgeeks.org/help-function-in-python/)\n",
    "- [Python Functions](https://www.w3schools.com/python/python_functions.asp)\n"
   ]
  },
  {
   "cell_type": "code",
   "execution_count": null,
   "id": "a17390b9",
   "metadata": {},
   "outputs": [],
   "source": []
  },
  {
   "cell_type": "code",
   "execution_count": null,
   "id": "8ddb9633",
   "metadata": {},
   "outputs": [],
   "source": []
  }
 ],
 "metadata": {
  "kernelspec": {
   "display_name": "Python 3 (ipykernel)",
   "language": "python",
   "name": "python3"
  },
  "language_info": {
   "codemirror_mode": {
    "name": "ipython",
    "version": 3
   },
   "file_extension": ".py",
   "mimetype": "text/x-python",
   "name": "python",
   "nbconvert_exporter": "python",
   "pygments_lexer": "ipython3",
   "version": "3.11.1"
  }
 },
 "nbformat": 4,
 "nbformat_minor": 5
}
